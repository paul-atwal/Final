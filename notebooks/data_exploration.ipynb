{
 "cells": [
  {
   "cell_type": "code",
   "execution_count": 4,
   "metadata": {},
   "outputs": [],
   "source": [
    "import pandas as pd"
   ]
  },
  {
   "cell_type": "code",
   "execution_count": 5,
   "metadata": {},
   "outputs": [],
   "source": [
    "file_path = \"../data/2007_to_2024_nflfastR.csv.gz\""
   ]
  },
  {
   "cell_type": "code",
   "execution_count": 6,
   "metadata": {},
   "outputs": [],
   "source": [
    "df = pd.read_csv(file_path, compression='gzip', low_memory=False)"
   ]
  },
  {
   "cell_type": "code",
   "execution_count": 7,
   "metadata": {},
   "outputs": [
    {
     "name": "stdout",
     "output_type": "stream",
     "text": [
      "<class 'pandas.core.frame.DataFrame'>\n",
      "RangeIndex: 860266 entries, 0 to 860265\n",
      "Columns: 372 entries, play_id to pass_oe\n",
      "dtypes: float64(174), int64(39), object(159)\n",
      "memory usage: 2.4+ GB\n",
      "None\n"
     ]
    }
   ],
   "source": [
    "print(df.info())"
   ]
  },
  {
   "cell_type": "code",
   "execution_count": 8,
   "metadata": {},
   "outputs": [
    {
     "name": "stdout",
     "output_type": "stream",
     "text": [
      "   play_id         game_id  old_game_id home_team away_team season_type  week  \\\n",
      "0        1  2007_01_ARI_SF   2007091001        SF       ARI         REG     1   \n",
      "1       36  2007_01_ARI_SF   2007091001        SF       ARI         REG     1   \n",
      "2       58  2007_01_ARI_SF   2007091001        SF       ARI         REG     1   \n",
      "3       80  2007_01_ARI_SF   2007091001        SF       ARI         REG     1   \n",
      "4      115  2007_01_ARI_SF   2007091001        SF       ARI         REG     1   \n",
      "\n",
      "  posteam posteam_type defteam  ... out_of_bounds  home_opening_kickoff  \\\n",
      "0     NaN          NaN     NaN  ...             0                     1   \n",
      "1      SF         home     ARI  ...             0                     1   \n",
      "2      SF         home     ARI  ...             0                     1   \n",
      "3      SF         home     ARI  ...             0                     1   \n",
      "4      SF         home     ARI  ...             0                     1   \n",
      "\n",
      "     qb_epa  xyac_epa  xyac_mean_yardage  xyac_median_yardage xyac_success  \\\n",
      "0  0.000000       NaN                NaN                  NaN          NaN   \n",
      "1  1.239341       NaN                NaN                  NaN          NaN   \n",
      "2 -0.476123       NaN                NaN                  NaN          NaN   \n",
      "3  1.319001   0.77434           4.286007                  2.0     0.987546   \n",
      "4 -0.461107       NaN                NaN                  NaN          NaN   \n",
      "\n",
      "    xyac_fd     xpass    pass_oe  \n",
      "0       NaN       NaN        NaN  \n",
      "1       NaN       NaN        NaN  \n",
      "2       NaN  0.453444 -45.344436  \n",
      "3  0.469452  0.628691  37.130868  \n",
      "4       NaN  0.448520        NaN  \n",
      "\n",
      "[5 rows x 372 columns]\n"
     ]
    }
   ],
   "source": [
    "print(df.head())"
   ]
  },
  {
   "cell_type": "code",
   "execution_count": 9,
   "metadata": {},
   "outputs": [],
   "source": [
    "df_fourth = df[df['down'] == 4]"
   ]
  },
  {
   "cell_type": "code",
   "execution_count": 10,
   "metadata": {},
   "outputs": [
    {
     "name": "stdout",
     "output_type": "stream",
     "text": [
      "    play_id         game_id  old_game_id home_team away_team season_type  \\\n",
      "8       210  2007_01_ARI_SF   2007091001        SF       ARI         REG   \n",
      "20      487  2007_01_ARI_SF   2007091001        SF       ARI         REG   \n",
      "25      607  2007_01_ARI_SF   2007091001        SF       ARI         REG   \n",
      "32      773  2007_01_ARI_SF   2007091001        SF       ARI         REG   \n",
      "40      955  2007_01_ARI_SF   2007091001        SF       ARI         REG   \n",
      "\n",
      "    week posteam posteam_type defteam  ... out_of_bounds  \\\n",
      "8      1      SF         home     ARI  ...             0   \n",
      "20     1     ARI         away      SF  ...             0   \n",
      "25     1      SF         home     ARI  ...             0   \n",
      "32     1     ARI         away      SF  ...             0   \n",
      "40     1     ARI         away      SF  ...             0   \n",
      "\n",
      "    home_opening_kickoff    qb_epa  xyac_epa  xyac_mean_yardage  \\\n",
      "8                      1  0.150192       NaN                NaN   \n",
      "20                     1  0.547055       NaN                NaN   \n",
      "25                     1  0.455475       NaN                NaN   \n",
      "32                     1  2.928112       NaN                NaN   \n",
      "40                     1  0.454258       NaN                NaN   \n",
      "\n",
      "    xyac_median_yardage xyac_success  xyac_fd     xpass  pass_oe  \n",
      "8                   NaN          NaN      NaN       NaN      NaN  \n",
      "20                  NaN          NaN      NaN       NaN      NaN  \n",
      "25                  NaN          NaN      NaN       NaN      NaN  \n",
      "32                  NaN          NaN      NaN  0.765221      NaN  \n",
      "40                  NaN          NaN      NaN       NaN      NaN  \n",
      "\n",
      "[5 rows x 372 columns]\n"
     ]
    }
   ],
   "source": [
    "print(df_fourth.head())"
   ]
  },
  {
   "cell_type": "code",
   "execution_count": 11,
   "metadata": {},
   "outputs": [
    {
     "name": "stdout",
     "output_type": "stream",
     "text": [
      "Index(['play_id', 'game_id', 'old_game_id', 'home_team', 'away_team',\n",
      "       'season_type', 'week', 'posteam', 'posteam_type', 'defteam',\n",
      "       ...\n",
      "       'out_of_bounds', 'home_opening_kickoff', 'qb_epa', 'xyac_epa',\n",
      "       'xyac_mean_yardage', 'xyac_median_yardage', 'xyac_success', 'xyac_fd',\n",
      "       'xpass', 'pass_oe'],\n",
      "      dtype='object', length=372)\n"
     ]
    }
   ],
   "source": [
    "print(df_fourth.columns)"
   ]
  },
  {
   "cell_type": "code",
   "execution_count": 12,
   "metadata": {},
   "outputs": [],
   "source": [
    "columns_to_keep = [\n",
    "    \"yardline_100\",\n",
    "    \"half_seconds_remaining\",\n",
    "    \"down\",\n",
    "    \"goal_to_go\",\n",
    "    \"ydstogo\",\n",
    "    \"score_differential\",\n",
    "    \"wp\",\n",
    "    \"epa\",\n",
    "    \"wpa\",\n",
    "    \"punt_attempt\",\n",
    "    \"field_goal_attempt\",\n",
    "    \"pass\",\n",
    "    \"rush\",\n",
    "]"
   ]
  },
  {
   "cell_type": "code",
   "execution_count": 13,
   "metadata": {},
   "outputs": [],
   "source": [
    "df_filtered = df_fourth[columns_to_keep].copy()"
   ]
  },
  {
   "cell_type": "code",
   "execution_count": 14,
   "metadata": {},
   "outputs": [],
   "source": [
    "def classify_decision(row): \n",
    "    if row[\"punt_attempt\"] == 1:\n",
    "        return \"punt\"\n",
    "    if row[\"field_goal_attempt\"] == 1:\n",
    "        return \"field_goal\"\n",
    "    elif row[\"pass\"] == 1 or row[\"rush\"] == 1:\n",
    "        return \"go_for_it\"\n",
    "    else:\n",
    "        return \"unknown\""
   ]
  },
  {
   "cell_type": "code",
   "execution_count": 15,
   "metadata": {},
   "outputs": [],
   "source": [
    "df_filtered[\"decision\"] = df_filtered.apply(classify_decision, axis=1)"
   ]
  },
  {
   "cell_type": "code",
   "execution_count": 16,
   "metadata": {},
   "outputs": [],
   "source": [
    "df_filtered = df_filtered[df_filtered[\"decision\"] != \"unknown\"]"
   ]
  },
  {
   "cell_type": "code",
   "execution_count": 17,
   "metadata": {},
   "outputs": [
    {
     "name": "stdout",
     "output_type": "stream",
     "text": [
      "decision\n",
      "punt          43233\n",
      "field_goal    17212\n",
      "go_for_it     11130\n",
      "Name: count, dtype: int64\n"
     ]
    }
   ],
   "source": [
    "print(df_filtered[\"decision\"].value_counts())"
   ]
  },
  {
   "cell_type": "code",
   "execution_count": 18,
   "metadata": {},
   "outputs": [
    {
     "name": "stdout",
     "output_type": "stream",
     "text": [
      "    yardline_100  half_seconds_remaining  down  goal_to_go  ydstogo  \\\n",
      "8           54.0                  1613.0   4.0           0       15   \n",
      "20          50.0                  1349.0   4.0           0       10   \n",
      "25          73.0                  1213.0   4.0           0       13   \n",
      "40          17.0                   775.0   4.0           0        6   \n",
      "64          16.0                   220.0   4.0           0        9   \n",
      "\n",
      "    score_differential        wp       epa       wpa  punt_attempt  \\\n",
      "8                  0.0  0.482309  0.150192  0.028425           1.0   \n",
      "20                -7.0  0.280599  0.547055 -0.010798           1.0   \n",
      "25                 7.0  0.676921  0.455475  0.014868           1.0   \n",
      "40                -7.0  0.309066  0.454258  0.046594           0.0   \n",
      "64                -3.0  0.463811  0.409686  0.052340           0.0   \n",
      "\n",
      "    field_goal_attempt  pass  rush    decision  \n",
      "8                  0.0     0     0        punt  \n",
      "20                 0.0     0     0        punt  \n",
      "25                 0.0     0     0        punt  \n",
      "40                 1.0     0     0  field_goal  \n",
      "64                 1.0     0     0  field_goal  \n"
     ]
    }
   ],
   "source": [
    "print(df_filtered.head())"
   ]
  },
  {
   "cell_type": "code",
   "execution_count": null,
   "metadata": {},
   "outputs": [],
   "source": []
  }
 ],
 "metadata": {
  "kernelspec": {
   "display_name": "nfl_bot_env",
   "language": "python",
   "name": "python3"
  },
  "language_info": {
   "codemirror_mode": {
    "name": "ipython",
    "version": 3
   },
   "file_extension": ".py",
   "mimetype": "text/x-python",
   "name": "python",
   "nbconvert_exporter": "python",
   "pygments_lexer": "ipython3",
   "version": "3.11.7"
  }
 },
 "nbformat": 4,
 "nbformat_minor": 2
}
